{
 "cells": [
  {
   "cell_type": "code",
   "execution_count": 1,
   "metadata": {},
   "outputs": [],
   "source": [
    "import pandas as pd\n",
    "import pandas_access as mdb\n",
    "import datetime as dt\n",
    "from datetime import datetime\n",
    "import numpy as np"
   ]
  },
  {
   "cell_type": "code",
   "execution_count": 15,
   "metadata": {},
   "outputs": [],
   "source": [
    "df = mdb.read_table(\"data/saleshist.mdb\", \"SALEHIST\")"
   ]
  },
  {
   "cell_type": "code",
   "execution_count": 40,
   "metadata": {},
   "outputs": [
    {
     "data": {
      "text/plain": [
       "796432"
      ]
     },
     "execution_count": 40,
     "metadata": {},
     "output_type": "execute_result"
    }
   ],
   "source": [
    "# NaN/ Zero only columns: COMMISION, ROW_DESC, TAX2, COL_INDEX, SHIP_NO, SITE (1 only)\n",
    "\n",
    "# MOSTLY NAN columns: RETFLAG (1167 NOT NAN)(Y, N), CUST_NO (103378 NOT NAN)\n",
    "# MOSTLY ZERO columns: DISCOUNT (72173 not NAN)\n",
    "\n",
    "# has some NANs but mostly not: REG_ID (1 or 2) , VENDOR (Long list), TYPE (P,S,K), DESC (7706), SKU (4778), GROUP (33)\n",
    "\n",
    "# 33k rows where PRICE != REGPRICE\n",
    "\n",
    "# start with day of week, day of month, month, year, group, time of day, (cos day), (sin day), cost, \n",
    "# discount (yes or no), price, \n",
    "\n",
    "# which things are bought together?\n",
    "# seasonality of items\n",
    "# which vendor?\n",
    "\n",
    "# what is TYPE?\n",
    "\n",
    "# was there anything else significantly different between 2017 and 2018 otherthan the loss of the overpass?\n",
    "\n",
    "# which products have the best ROI? (price - cost) AND how does that compare overall to profit?"
   ]
  },
  {
   "cell_type": "code",
   "execution_count": 5,
   "metadata": {},
   "outputs": [
    {
     "ename": "NameError",
     "evalue": "name 'df_smol' is not defined",
     "output_type": "error",
     "traceback": [
      "\u001b[0;31m---------------------------------------------------------------------------\u001b[0m",
      "\u001b[0;31mNameError\u001b[0m                                 Traceback (most recent call last)",
      "\u001b[0;32m<ipython-input-5-09fcdff6dbe4>\u001b[0m in \u001b[0;36m<module>\u001b[0;34m\u001b[0m\n\u001b[1;32m      1\u001b[0m \u001b[0mlen\u001b[0m\u001b[0;34m(\u001b[0m\u001b[0mdf\u001b[0m\u001b[0;34m[\u001b[0m\u001b[0mdf\u001b[0m\u001b[0;34m.\u001b[0m\u001b[0mSITE\u001b[0m \u001b[0;34m!=\u001b[0m \u001b[0;34m'1'\u001b[0m\u001b[0;34m]\u001b[0m\u001b[0;34m)\u001b[0m\u001b[0;34m\u001b[0m\u001b[0;34m\u001b[0m\u001b[0m\n\u001b[1;32m      2\u001b[0m \u001b[0mlen\u001b[0m\u001b[0;34m(\u001b[0m\u001b[0mdf\u001b[0m\u001b[0;34m[\u001b[0m\u001b[0;34m~\u001b[0m\u001b[0mdf\u001b[0m\u001b[0;34m.\u001b[0m\u001b[0mREG_ID\u001b[0m\u001b[0;34m.\u001b[0m\u001b[0misna\u001b[0m\u001b[0;34m(\u001b[0m\u001b[0;34m)\u001b[0m\u001b[0;34m]\u001b[0m\u001b[0;34m)\u001b[0m\u001b[0;34m\u001b[0m\u001b[0;34m\u001b[0m\u001b[0m\n\u001b[0;32m----> 3\u001b[0;31m \u001b[0mdf_smol\u001b[0m\u001b[0;34m.\u001b[0m\u001b[0mDATE\u001b[0m\u001b[0;34m[\u001b[0m\u001b[0;36m800000\u001b[0m\u001b[0;34m]\u001b[0m\u001b[0;34m[\u001b[0m\u001b[0;34m:\u001b[0m\u001b[0;36m8\u001b[0m\u001b[0;34m]\u001b[0m\u001b[0;34m.\u001b[0m\u001b[0msplit\u001b[0m\u001b[0;34m(\u001b[0m\u001b[0;34m\"/\"\u001b[0m\u001b[0;34m)\u001b[0m\u001b[0;34m\u001b[0m\u001b[0;34m\u001b[0m\u001b[0m\n\u001b[0m",
      "\u001b[0;31mNameError\u001b[0m: name 'df_smol' is not defined"
     ]
    }
   ],
   "source": [
    "len(df[df.SITE != '1'])\n",
    "len(df[~df.REG_ID.isna()])\n",
    "df_smol.DATE[800000][:8].split(\"/\")"
   ]
  },
  {
   "cell_type": "code",
   "execution_count": 204,
   "metadata": {},
   "outputs": [
    {
     "data": {
      "text/plain": [
       "Index(['INV_NO', 'SKU', 'QTY', 'CUST_NO', 'PRICE', 'TAX1', 'CLERK', 'DATE',\n",
       "       'GROUP', 'REG_ID', 'DISCOUNT', 'DESC', 'COST', 'PAID', 'TIME', 'TYPE',\n",
       "       'RETFLAG', 'REGPRICE', 'VENDOR'],\n",
       "      dtype='object')"
      ]
     },
     "execution_count": 204,
     "metadata": {},
     "output_type": "execute_result"
    }
   ],
   "source": [
    "df.columns"
   ]
  },
  {
   "cell_type": "code",
   "execution_count": 16,
   "metadata": {},
   "outputs": [],
   "source": [
    "df.drop([\"COMMISION\", \"ROW_DESC\", \"TAX2\", \"COL_INDEX\", \"SHIP_NO\", \"SITE\"], axis=1, inplace=True)\n"
   ]
  },
  {
   "cell_type": "code",
   "execution_count": 17,
   "metadata": {},
   "outputs": [],
   "source": [
    "df_smol = df.drop([\"RETFLAG\", \"CUST_NO\", \"REG_ID\", \"CLERK\", \"TAX1\", \"PAID\", \"REGPRICE\", \"TYPE\"], axis=1)\n"
   ]
  },
  {
   "cell_type": "code",
   "execution_count": 18,
   "metadata": {},
   "outputs": [],
   "source": [
    "def date_func(df, col_as_str):\n",
    "    #df_smol[\"month\"], df_smol[\"day\"], df_smol[\"year\"] = df_smol[\"DATE\"].apply(lambda x: x[:8].split(\"/\"))\n",
    "    yearmonthday = df[col_as_str].astype(str)\n",
    "    ymd = yearmonthday.apply(lambda x: x[:8]).str.split(\"/\")\n",
    "    year = ymd.apply(lambda x: x[2])\n",
    "    month = ymd.apply(lambda x: x[0])\n",
    "    day = ymd.apply(lambda x: x[1])\n",
    "    df[\"year\"] = year\n",
    "    df[\"month\"] = month\n",
    "    df[\"day\"] = day\n",
    "    return df\n",
    "\n",
    "def weekday(df):\n",
    "    lst = []\n",
    "    for ix, row in df.iterrows():\n",
    "        if row[\"year\"][0] in [\"0\",\"1\",\"2\"]:\n",
    "            year4 = int(\"20\" + row[\"year\"])\n",
    "        else:\n",
    "            year4 = int(\"19\" + row[\"year\"])\n",
    "        month = int(row[\"month\"])\n",
    "        day = int(row[\"day\"])\n",
    "        dt_obj = dt.datetime(year4, month, day)\n",
    "        weekday = datetime.date(dt_obj).weekday()\n",
    "        lst.append(weekday)\n",
    "    df[\"weekday\"] = lst\n",
    "    return df\n",
    "\n",
    "def century(year): \n",
    "    if year[0] in [\"0\",\"1\",\"2\"]:\n",
    "        year4 = (\"20\" + year)\n",
    "    else:\n",
    "        year4 = (\"19\" + year)\n",
    "    return year4\n",
    "\n",
    "def plot_sku(sku):\n",
    "    new_df = df_smol[df_smol[\"SKU\"] == sku]\n",
    "    years = new_df.year.unique()\n",
    "    yearly = new_df.groupby(\"year\")[\"profit\"].sum()\n",
    "    profits = yearly.values\n",
    "    #yearly.plot.bar(x = \"year\", y = \"profit\") \n",
    "    df = pd.DataFrame({'year': years,'profit':profits})\n",
    "    desc = list(new_df['DESC'])[0]\n",
    "    ax = df.plot.bar(x='year', y='profit', legend=True, title=desc, rot=90);"
   ]
  },
  {
   "cell_type": "code",
   "execution_count": 9,
   "metadata": {},
   "outputs": [],
   "source": [
    "df = date_func(df, \"DATE\")\n",
    "df = weekday(df)\n",
    "df[\"profit\"] = df[\"QTY\"] * (df[\"PRICE\"] - df[\"COST\"])\n",
    "df[\"year\"] = df[\"year\"].apply(lambda x: century(x))\n",
    "df.drop([\"DATE\"],axis=1, inplace=True)"
   ]
  },
  {
   "cell_type": "code",
   "execution_count": 10,
   "metadata": {},
   "outputs": [],
   "source": [
    "df.to_pickle(\"data/df.pkl\")"
   ]
  },
  {
   "cell_type": "code",
   "execution_count": 19,
   "metadata": {},
   "outputs": [],
   "source": [
    "df_smol = date_func(df_smol, \"DATE\")\n",
    "df_smol = weekday(df_smol)"
   ]
  },
  {
   "cell_type": "code",
   "execution_count": 20,
   "metadata": {},
   "outputs": [],
   "source": [
    "df_smol[\"profit\"] = df_smol[\"QTY\"] * (df_smol[\"PRICE\"] - df_smol[\"COST\"])\n",
    "df_smol[\"year\"] = df_smol[\"year\"].apply(lambda x: century(x))\n",
    "df_smol.drop([\"DATE\"],axis=1, inplace=True)"
   ]
  },
  {
   "cell_type": "code",
   "execution_count": 21,
   "metadata": {},
   "outputs": [],
   "source": [
    "values = [106185, 93482, 93869,97286, 120934, 181260, 136056 ]\n",
    "#df_smol['weekday'].value_counts().plot.bar()\n",
    "\n",
    "df = pd.DataFrame({'day of week':[0,1,2,3,4,5,6], 'items sold per day':values})\n",
    "ax = df.plot.bar(x='day of week', y='items sold per day', rot=0)"
   ]
  },
  {
   "cell_type": "code",
   "execution_count": 83,
   "metadata": {},
   "outputs": [
    {
     "data": {
      "image/png": "[encoded data removed]",
      "text/plain": [
       "<Figure size 432x288 with 1 Axes>"
      ]
     },
     "metadata": {
      "needs_background": "light"
     },
     "output_type": "display_data"
    }
   ],
   "source": [
    "# try grouping by day, and then this (so you get an average\n",
    "# per day profit)\n",
    "\n",
    "# group by invoice first. - make new column with # items per inv\n",
    "\n",
    "by_year = df_smol.groupby([\"year\"], axis=0).agg(\n",
    "profit=pd.NamedAgg(column='profit', aggfunc=sum),\n",
    "\n",
    "num_items=pd.NamedAgg(column='QTY', aggfunc=sum))\n",
    "\n",
    "by_year.plot.bar();"
   ]
  },
  {
   "cell_type": "code",
   "execution_count": 67,
   "metadata": {},
   "outputs": [
    {
     "data": {
      "text/html": [
       "<div>\n",
       "<style scoped>\n",
       "    .dataframe tbody tr th:only-of-type {\n",
       "        vertical-align: middle;\n",
       "    }\n",
       "\n",
       "    .dataframe tbody tr th {\n",
       "        vertical-align: top;\n",
       "    }\n",
       "\n",
       "    .dataframe thead th {\n",
       "        text-align: right;\n",
       "    }\n",
       "</style>\n",
       "<table border=\"1\" class=\"dataframe\">\n",
       "  <thead>\n",
       "    <tr style=\"text-align: right;\">\n",
       "      <th></th>\n",
       "      <th>QTY</th>\n",
       "      <th>PRICE</th>\n",
       "      <th>DISCOUNT</th>\n",
       "      <th>COST</th>\n",
       "      <th>weekday</th>\n",
       "      <th>profit</th>\n",
       "    </tr>\n",
       "    <tr>\n",
       "      <th>month</th>\n",
       "      <th></th>\n",
       "      <th></th>\n",
       "      <th></th>\n",
       "      <th></th>\n",
       "      <th></th>\n",
       "      <th></th>\n",
       "    </tr>\n",
       "  </thead>\n",
       "  <tbody>\n",
       "    <tr>\n",
       "      <th>01</th>\n",
       "      <td>6206.60</td>\n",
       "      <td>13031.92</td>\n",
       "      <td>5259.300</td>\n",
       "      <td>4521.90</td>\n",
       "      <td>9365</td>\n",
       "      <td>17054.8700</td>\n",
       "    </tr>\n",
       "    <tr>\n",
       "      <th>02</th>\n",
       "      <td>6712.00</td>\n",
       "      <td>13169.72</td>\n",
       "      <td>6999.500</td>\n",
       "      <td>4536.56</td>\n",
       "      <td>10068</td>\n",
       "      <td>18070.2980</td>\n",
       "    </tr>\n",
       "    <tr>\n",
       "      <th>03</th>\n",
       "      <td>7956.85</td>\n",
       "      <td>16260.88</td>\n",
       "      <td>7396.500</td>\n",
       "      <td>5493.12</td>\n",
       "      <td>13086</td>\n",
       "      <td>21508.0670</td>\n",
       "    </tr>\n",
       "    <tr>\n",
       "      <th>04</th>\n",
       "      <td>6242.75</td>\n",
       "      <td>13875.89</td>\n",
       "      <td>6508.400</td>\n",
       "      <td>4784.71</td>\n",
       "      <td>10176</td>\n",
       "      <td>17394.1800</td>\n",
       "    </tr>\n",
       "    <tr>\n",
       "      <th>05</th>\n",
       "      <td>6604.00</td>\n",
       "      <td>14212.31</td>\n",
       "      <td>5294.031</td>\n",
       "      <td>4891.66</td>\n",
       "      <td>9822</td>\n",
       "      <td>18598.8385</td>\n",
       "    </tr>\n",
       "    <tr>\n",
       "      <th>06</th>\n",
       "      <td>6735.88</td>\n",
       "      <td>14433.63</td>\n",
       "      <td>4524.000</td>\n",
       "      <td>4828.41</td>\n",
       "      <td>10493</td>\n",
       "      <td>18759.9718</td>\n",
       "    </tr>\n",
       "    <tr>\n",
       "      <th>07</th>\n",
       "      <td>6703.10</td>\n",
       "      <td>14580.04</td>\n",
       "      <td>4285.000</td>\n",
       "      <td>5139.01</td>\n",
       "      <td>9706</td>\n",
       "      <td>18771.3375</td>\n",
       "    </tr>\n",
       "    <tr>\n",
       "      <th>08</th>\n",
       "      <td>1309.90</td>\n",
       "      <td>2820.41</td>\n",
       "      <td>935.000</td>\n",
       "      <td>1065.17</td>\n",
       "      <td>2018</td>\n",
       "      <td>3329.6710</td>\n",
       "    </tr>\n",
       "  </tbody>\n",
       "</table>\n",
       "</div>"
      ],
      "text/plain": [
       "           QTY     PRICE  DISCOUNT     COST  weekday      profit\n",
       "month                                                           \n",
       "01     6206.60  13031.92  5259.300  4521.90     9365  17054.8700\n",
       "02     6712.00  13169.72  6999.500  4536.56    10068  18070.2980\n",
       "03     7956.85  16260.88  7396.500  5493.12    13086  21508.0670\n",
       "04     6242.75  13875.89  6508.400  4784.71    10176  17394.1800\n",
       "05     6604.00  14212.31  5294.031  4891.66     9822  18598.8385\n",
       "06     6735.88  14433.63  4524.000  4828.41    10493  18759.9718\n",
       "07     6703.10  14580.04  4285.000  5139.01     9706  18771.3375\n",
       "08     1309.90   2820.41   935.000  1065.17     2018   3329.6710"
      ]
     },
     "execution_count": 67,
     "metadata": {},
     "output_type": "execute_result"
    }
   ],
   "source": [
    "yr_2018 = df_smol[df_smol[\"year\"] == \"2018\"]\n",
    "yr_2018.groupby(\"month\").sum()\n",
    "\n",
    "\n",
    "# could predict the rest of 2018 and then check to see if I was right!\n"
   ]
  },
  {
   "cell_type": "code",
   "execution_count": 291,
   "metadata": {},
   "outputs": [],
   "source": [
    "# plot income by GROUP\n",
    "# column with total $ per row\n",
    "# group by GROUP and sum\n",
    "\n"
   ]
  },
  {
   "cell_type": "code",
   "execution_count": 84,
   "metadata": {},
   "outputs": [
    {
     "data": {
      "text/html": [
       "<div>\n",
       "<style scoped>\n",
       "    .dataframe tbody tr th:only-of-type {\n",
       "        vertical-align: middle;\n",
       "    }\n",
       "\n",
       "    .dataframe tbody tr th {\n",
       "        vertical-align: top;\n",
       "    }\n",
       "\n",
       "    .dataframe thead th {\n",
       "        text-align: right;\n",
       "    }\n",
       "</style>\n",
       "<table border=\"1\" class=\"dataframe\">\n",
       "  <thead>\n",
       "    <tr style=\"text-align: right;\">\n",
       "      <th></th>\n",
       "      <th>INV_NO</th>\n",
       "      <th>SKU</th>\n",
       "      <th>QTY</th>\n",
       "      <th>PRICE</th>\n",
       "      <th>GROUP</th>\n",
       "      <th>DISCOUNT</th>\n",
       "      <th>COST</th>\n",
       "      <th>TIME</th>\n",
       "      <th>VENDOR</th>\n",
       "      <th>year</th>\n",
       "      <th>month</th>\n",
       "      <th>day</th>\n",
       "      <th>weekday</th>\n",
       "      <th>profit</th>\n",
       "    </tr>\n",
       "  </thead>\n",
       "  <tbody>\n",
       "    <tr>\n",
       "      <th>0</th>\n",
       "      <td>1</td>\n",
       "      <td>1540</td>\n",
       "      <td>0.25</td>\n",
       "      <td>18.4</td>\n",
       "      <td>TEA</td>\n",
       "      <td>0.0</td>\n",
       "      <td>6.15</td>\n",
       "      <td>11:04</td>\n",
       "      <td>S&amp;V</td>\n",
       "      <td>1996</td>\n",
       "      <td>05</td>\n",
       "      <td>05</td>\n",
       "      <td>6</td>\n",
       "      <td>3.0625</td>\n",
       "    </tr>\n",
       "    <tr>\n",
       "      <th>1</th>\n",
       "      <td>1</td>\n",
       "      <td>1558</td>\n",
       "      <td>0.25</td>\n",
       "      <td>39.0</td>\n",
       "      <td>TEA</td>\n",
       "      <td>0.0</td>\n",
       "      <td>13.00</td>\n",
       "      <td>11:04</td>\n",
       "      <td>S&amp;V</td>\n",
       "      <td>1996</td>\n",
       "      <td>05</td>\n",
       "      <td>05</td>\n",
       "      <td>6</td>\n",
       "      <td>6.5000</td>\n",
       "    </tr>\n",
       "    <tr>\n",
       "      <th>2</th>\n",
       "      <td>1</td>\n",
       "      <td>1518</td>\n",
       "      <td>0.25</td>\n",
       "      <td>21.0</td>\n",
       "      <td>TEA</td>\n",
       "      <td>0.0</td>\n",
       "      <td>6.95</td>\n",
       "      <td>11:04</td>\n",
       "      <td>BWT</td>\n",
       "      <td>1996</td>\n",
       "      <td>05</td>\n",
       "      <td>05</td>\n",
       "      <td>6</td>\n",
       "      <td>3.5125</td>\n",
       "    </tr>\n",
       "    <tr>\n",
       "      <th>3</th>\n",
       "      <td>2</td>\n",
       "      <td>1192</td>\n",
       "      <td>1.00</td>\n",
       "      <td>26.0</td>\n",
       "      <td>ACC</td>\n",
       "      <td>0.0</td>\n",
       "      <td>12.50</td>\n",
       "      <td>11:28</td>\n",
       "      <td>WAC</td>\n",
       "      <td>1996</td>\n",
       "      <td>05</td>\n",
       "      <td>05</td>\n",
       "      <td>6</td>\n",
       "      <td>13.5000</td>\n",
       "    </tr>\n",
       "    <tr>\n",
       "      <th>4</th>\n",
       "      <td>3</td>\n",
       "      <td>1697</td>\n",
       "      <td>1.00</td>\n",
       "      <td>96.0</td>\n",
       "      <td>POT</td>\n",
       "      <td>0.0</td>\n",
       "      <td>48.00</td>\n",
       "      <td>11:39</td>\n",
       "      <td>KSO</td>\n",
       "      <td>1996</td>\n",
       "      <td>05</td>\n",
       "      <td>05</td>\n",
       "      <td>6</td>\n",
       "      <td>48.0000</td>\n",
       "    </tr>\n",
       "  </tbody>\n",
       "</table>\n",
       "</div>"
      ],
      "text/plain": [
       "   INV_NO   SKU   QTY  PRICE GROUP  DISCOUNT   COST   TIME VENDOR  year month  \\\n",
       "0       1  1540  0.25   18.4   TEA       0.0   6.15  11:04    S&V  1996    05   \n",
       "1       1  1558  0.25   39.0   TEA       0.0  13.00  11:04    S&V  1996    05   \n",
       "2       1  1518  0.25   21.0   TEA       0.0   6.95  11:04    BWT  1996    05   \n",
       "3       2  1192  1.00   26.0   ACC       0.0  12.50  11:28    WAC  1996    05   \n",
       "4       3  1697  1.00   96.0   POT       0.0  48.00  11:39    KSO  1996    05   \n",
       "\n",
       "  day  weekday   profit  \n",
       "0  05        6   3.0625  \n",
       "1  05        6   6.5000  \n",
       "2  05        6   3.5125  \n",
       "3  05        6  13.5000  \n",
       "4  05        6  48.0000  "
      ]
     },
     "execution_count": 84,
     "metadata": {},
     "output_type": "execute_result"
    }
   ],
   "source": [
    "# GROUP BY INV_NO, sum $ and items\n",
    "df_smol.head()"
   ]
  },
  {
   "cell_type": "code",
   "execution_count": 89,
   "metadata": {},
   "outputs": [
    {
     "data": {
      "text/plain": [
       "4778"
      ]
     },
     "execution_count": 89,
     "metadata": {},
     "output_type": "execute_result"
    }
   ],
   "source": [
    "len(df_smol[\"SKU\"].value_counts())"
   ]
  },
  {
   "cell_type": "code",
   "execution_count": 124,
   "metadata": {},
   "outputs": [],
   "source": [
    "group_year = df_smol.drop([\"PRICE\", \"DISCOUNT\", \"COST\", \"weekday\"], axis=1).groupby(\"year\")[\"profit\"].idxmax()\n",
    "\n",
    "year.iloc[group_year][[\"year\", \"GROUP\", \"profit\"]]\n"
   ]
  },
  {
   "cell_type": "code",
   "execution_count": 135,
   "metadata": {},
   "outputs": [
    {
     "data": {
      "text/plain": [
       "23"
      ]
     },
     "execution_count": 135,
     "metadata": {},
     "output_type": "execute_result"
    }
   ],
   "source": [
    "year = pd.DataFrame(df_smol.groupby(\"year\"))\n",
    "len(year)"
   ]
  },
  {
   "cell_type": "code",
   "execution_count": 143,
   "metadata": {},
   "outputs": [
    {
     "data": {
      "text/plain": [
       "210520.68350000549"
      ]
     },
     "execution_count": 143,
     "metadata": {},
     "output_type": "execute_result"
    }
   ],
   "source": [
    "year_group = df_smol.drop([\"PRICE\", \"DISCOUNT\", \"COST\", \"weekday\"], axis=1).groupby([\"year\", \"GROUP\"])[\"profit\"].sum()\n",
    "\n"
   ]
  },
  {
   "cell_type": "code",
   "execution_count": 188,
   "metadata": {
    "scrolled": false
   },
   "outputs": [
    {
     "data": {
      "text/plain": [
       "'profit'"
      ]
     },
     "execution_count": 188,
     "metadata": {},
     "output_type": "execute_result"
    }
   ],
   "source": [
    "year_group.name\n"
   ]
  },
  {
   "cell_type": "code",
   "execution_count": 196,
   "metadata": {},
   "outputs": [
    {
     "name": "stdout",
     "output_type": "stream",
     "text": [
      "1996 GROUP\n",
      "POT    40676.0400\n",
      "TEA    20371.6395\n",
      "ACC    14050.5000\n",
      "Name: profit, dtype: float64\n",
      "1997 GROUP\n",
      "TEA    44843.3334\n",
      "POT    43559.7100\n",
      "ACC    14763.1600\n",
      "Name: profit, dtype: float64\n",
      "1998 GROUP\n",
      "TEA    54411.0926\n",
      "POT    38681.5500\n",
      "ACC    16856.6900\n",
      "Name: profit, dtype: float64\n",
      "1999 GROUP\n",
      "TEA    68881.2955\n",
      "POT    37982.7400\n",
      "ACC    16621.4000\n",
      "Name: profit, dtype: float64\n",
      "2000 GROUP\n",
      "TEA    89438.032\n",
      "POT    34280.920\n",
      "ACC    20323.470\n",
      "Name: profit, dtype: float64\n",
      "2001 GROUP\n",
      "TEA    101997.4264\n",
      "POT     34479.1400\n",
      "ACC     23329.7500\n",
      "Name: profit, dtype: float64\n",
      "2002 GROUP\n",
      "TEA    109995.7498\n",
      "POT     33287.8600\n",
      "ACC     20658.3900\n",
      "Name: profit, dtype: float64\n",
      "2003 GROUP\n",
      "TEA    128249.402\n",
      "POT     31390.920\n",
      "ACC     20649.620\n",
      "Name: profit, dtype: float64\n",
      "2004 GROUP\n",
      "TEA    145039.133\n",
      "POT     27542.460\n",
      "ACC     24465.130\n",
      "Name: profit, dtype: float64\n",
      "2005 GROUP\n",
      "TEA    160070.2225\n",
      "POT     27792.1900\n",
      "ACC     22873.2800\n",
      "Name: profit, dtype: float64\n",
      "2006 GROUP\n",
      "TEA    162982.093\n",
      "POT     27590.280\n",
      "ACC     21083.590\n",
      "Name: profit, dtype: float64\n",
      "2007 GROUP\n",
      "TEA    169538.61\n",
      "POT     25713.22\n",
      "ACC     18021.21\n",
      "Name: profit, dtype: float64\n",
      "2008 GROUP\n",
      "TEA    161869.6868\n",
      "POT     22478.3700\n",
      "ACC     15539.6500\n",
      "Name: profit, dtype: float64\n",
      "2009 GROUP\n",
      "TEA    155293.6049\n",
      "POT     18379.4100\n",
      "ACC     12185.8400\n",
      "Name: profit, dtype: float64\n",
      "2010 GROUP\n",
      "TEA    160573.4795\n",
      "POT     13353.2100\n",
      "ACC     12627.6300\n",
      "Name: profit, dtype: float64\n",
      "2011 GROUP\n",
      "TEA    181192.573\n",
      "ACC     18391.080\n",
      "POT     12405.980\n",
      "Name: profit, dtype: float64\n",
      "2012 GROUP\n",
      "TEA    185147.6668\n",
      "ACC     15197.0400\n",
      "POT     11998.2500\n",
      "Name: profit, dtype: float64\n",
      "2013 GROUP\n",
      "TEA    190408.15\n",
      "ACC     15179.51\n",
      "POT     11651.84\n",
      "Name: profit, dtype: float64\n",
      "2014 GROUP\n",
      "TEA    192522.2528\n",
      "ACC     16773.3200\n",
      "POT     12672.5100\n",
      "Name: profit, dtype: float64\n",
      "2015 GROUP\n",
      "TEA    198718.0312\n",
      "ACC     17677.0800\n",
      "TTG     13295.8800\n",
      "Name: profit, dtype: float64\n",
      "2016 GROUP\n",
      "TEA    210520.6835\n",
      "ACC     18613.8500\n",
      "TTG     15596.8300\n",
      "Name: profit, dtype: float64\n",
      "2017 GROUP\n",
      "TEA    198071.3746\n",
      "TTG     15209.3700\n",
      "ACC     12029.0200\n",
      "Name: profit, dtype: float64\n",
      "2018 GROUP\n",
      "TEA    109493.6918\n",
      "TTG      6803.5800\n",
      "ACC      6101.1800\n",
      "Name: profit, dtype: float64\n"
     ]
    }
   ],
   "source": [
    "years = df_smol[\"year\"].unique()\n",
    "for year in years:\n",
    "    maxi = year_group[year].nlargest(3)\n",
    "    print(year, maxi)\n",
    "        #year_group[year_group in maxi])"
   ]
  },
  {
   "cell_type": "code",
   "execution_count": 294,
   "metadata": {},
   "outputs": [
    {
     "data": {
      "text/plain": [
       "1798             44233\n",
       "SHIP/N           20820\n",
       "2547             19068\n",
       "BAG              18266\n",
       "1797             17289\n",
       "1799             14871\n",
       "1548             14023\n",
       "4975435581034    13509\n",
       "1391             10687\n",
       "3500              9495\n",
       "1021              8707\n",
       "4294              7126\n",
       "4317              6704\n",
       "2583              6386\n",
       "3510              5868\n",
       "Name: SKU, dtype: int64"
      ]
     },
     "execution_count": 294,
     "metadata": {},
     "output_type": "execute_result"
    }
   ],
   "source": [
    "# find SKU of most profitable per & most profitable overall & has this changed?\n",
    "\n",
    "df_smol.SKU.value_counts()[:15]\n"
   ]
  },
  {
   "cell_type": "code",
   "execution_count": 304,
   "metadata": {},
   "outputs": [],
   "source": [
    "# does price change directly change profit?\n"
   ]
  },
  {
   "cell_type": "code",
   "execution_count": 299,
   "metadata": {},
   "outputs": [
    {
     "data": {
      "image/png": "[encoded data removed]",
      "text/plain": [
       "<Figure size 432x288 with 1 Axes>"
      ]
     },
     "metadata": {
      "needs_background": "light"
     },
     "output_type": "display_data"
    }
   ],
   "source": [
    "plot_sku('3510')"
   ]
  },
  {
   "cell_type": "code",
   "execution_count": 247,
   "metadata": {},
   "outputs": [
    {
     "data": {
      "text/plain": [
       "(array([  26.78, 1253.58, 1174.84, 1208.86, 1175.34, 1314.68, 1119.64,\n",
       "        2407.2 , 3823.84, 4337.8 , 4480.48, 3769.01, 3201.6 , 2706.27,\n",
       "        2703.61, 1879.15, 1895.56, 2718.99, 2667.68, 2693.73, 3314.41,\n",
       "        2657.88, 1554.56]), year\n",
       " 1996      26.78\n",
       " 1997    1253.58\n",
       " 1998    1174.84\n",
       " 1999    1208.86\n",
       " 2000    1175.34\n",
       " 2001    1314.68\n",
       " 2002    1119.64\n",
       " 2003    2407.20\n",
       " 2004    3823.84\n",
       " 2005    4337.80\n",
       " 2006    4480.48\n",
       " 2007    3769.01\n",
       " 2008    3201.60\n",
       " 2009    2706.27\n",
       " 2010    2703.61\n",
       " 2011    1879.15\n",
       " 2012    1895.56\n",
       " 2013    2718.99\n",
       " 2014    2667.68\n",
       " 2015    2693.73\n",
       " 2016    3314.41\n",
       " 2017    2657.88\n",
       " 2018    1554.56\n",
       " Name: profit, dtype: float64)"
      ]
     },
     "execution_count": 247,
     "metadata": {},
     "output_type": "execute_result"
    }
   ],
   "source": [
    "new_df = df_smol[df_smol[\"SKU\"] == '1798']\n",
    "years = new_df.year.unique()\n",
    "yearly = new_df.groupby(\"year\")[\"profit\"].sum()\n",
    "yearly.values, yearly"
   ]
  },
  {
   "cell_type": "code",
   "execution_count": 300,
   "metadata": {},
   "outputs": [],
   "source": [
    "# if an sku differs from the mean by more than one std, plot it"
   ]
  },
  {
   "cell_type": "code",
   "execution_count": 313,
   "metadata": {},
   "outputs": [
    {
     "data": {
      "text/plain": [
       "7706"
      ]
     },
     "execution_count": 313,
     "metadata": {},
     "output_type": "execute_result"
    }
   ],
   "source": [
    "clist = df_smol[\"DESC\"].value_counts()\n",
    "len(clist)"
   ]
  },
  {
   "cell_type": "code",
   "execution_count": 329,
   "metadata": {},
   "outputs": [],
   "source": [
    "zero_cost_list = list(df_smol[df_smol.COST == 0][\"DESC\"].unique())\n",
    "negative_profit_list = list(df_smol[df_smol.profit < 0][\"DESC\"].unique())\n",
    "zero_profit_list = list(df_smol[df_smol.profit == 0][\"DESC\"].unique())"
   ]
  },
  {
   "cell_type": "code",
   "execution_count": 353,
   "metadata": {},
   "outputs": [],
   "source": [
    "profitable_1996 = df_smol[(df_smol[\"year\"] == \"1996\") &(df_smol[\"profit\"] > 0)]\n",
    "grp = profitable_1996.groupby(\"SKU\")[\"profit\"].sum().sort_values(ascending=False)"
   ]
  },
  {
   "cell_type": "code",
   "execution_count": 354,
   "metadata": {},
   "outputs": [
    {
     "data": {
      "text/plain": [
       "SKU\n",
       "1799            4323.150\n",
       "SHIP/T          2749.800\n",
       "1548            1759.111\n",
       "020658012323    1531.910\n",
       "1349            1185.000\n",
       "                  ...   \n",
       "1422               0.750\n",
       "2096               0.700\n",
       "1665               0.600\n",
       "1808               0.500\n",
       "1584               0.500\n",
       "Name: profit, Length: 679, dtype: float64"
      ]
     },
     "execution_count": 354,
     "metadata": {},
     "output_type": "execute_result"
    }
   ],
   "source": [
    "grp"
   ]
  },
  {
   "cell_type": "code",
   "execution_count": 356,
   "metadata": {},
   "outputs": [
    {
     "data": {
      "image/png": "[encoded data removed]",
      "text/plain": [
       "<Figure size 432x288 with 1 Axes>"
      ]
     },
     "metadata": {
      "needs_background": "light"
     },
     "output_type": "display_data"
    }
   ],
   "source": [
    "plot_sku(\"SHIP/T\")"
   ]
  },
  {
   "cell_type": "code",
   "execution_count": 22,
   "metadata": {},
   "outputs": [
    {
     "data": {
      "text/plain": [
       "GROUP  year\n",
       "999    1996      168.79\n",
       "       1997      159.51\n",
       "       1998      190.60\n",
       "       1999       15.00\n",
       "ACC    1996    14050.50\n",
       "                 ...   \n",
       "TTG    2014    10780.33\n",
       "       2015    13295.88\n",
       "       2016    15596.83\n",
       "       2017    15209.37\n",
       "       2018     6803.58\n",
       "Name: profit, Length: 343, dtype: float64"
      ]
     },
     "execution_count": 22,
     "metadata": {},
     "output_type": "execute_result"
    }
   ],
   "source": [
    "# profit up / down\n",
    "# number items sold up / down\n",
    "df_smol.groupby([\"GROUP\", \"year\"])[\"profit\"].sum()\n"
   ]
  },
  {
   "cell_type": "code",
   "execution_count": null,
   "metadata": {},
   "outputs": [],
   "source": []
  }
 ],
 "metadata": {
  "kernelspec": {
   "display_name": "Python 3",
   "language": "python",
   "name": "python3"
  },
  "language_info": {
   "codemirror_mode": {
    "name": "ipython",
    "version": 3
   },
   "file_extension": ".py",
   "mimetype": "text/x-python",
   "name": "python",
   "nbconvert_exporter": "python",
   "pygments_lexer": "ipython3",
   "version": "3.7.3"
  }
 },
 "nbformat": 4,
 "nbformat_minor": 2
}
